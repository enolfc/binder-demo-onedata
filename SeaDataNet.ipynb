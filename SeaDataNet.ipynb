{
 "cells": [
  {
   "cell_type": "markdown",
   "metadata": {},
   "source": [
    "# Example Notebook for SeaDataNet Climatology data\n",
    "Author(s): [Bjorn Backeberg](mailto:backeb@gmail.com) (backeb)\n",
    "\n",
    "Creation date: 01-Aug-2019\n",
    "\n",
    "Last updated: 06-Aug-2019\n",
    "\n",
    "---\n",
    "\n",
    "## Purpose\n",
    "\n",
    "Load SeaDataNet Climatology computed from the SeaDataNet V1.1 aggregated regional datasets. Data can be downloaded [here](https://www.seadatanet.org/Products#/search?from=1&to=20).\n",
    "\n",
    "Plot on map using cartopy"
   ]
  },
  {
   "cell_type": "markdown",
   "metadata": {},
   "source": [
    "## Import necessary libraries"
   ]
  },
  {
   "cell_type": "code",
   "execution_count": 3,
   "metadata": {},
   "outputs": [
    {
     "data": {
      "text/plain": [
       "environ{'PATH': '/home/jovyan/.local/bin:/home/jovyan/.local/bin:/srv/conda/bin:/srv/npm/bin:/usr/local/sbin:/usr/local/bin:/usr/sbin:/usr/bin:/sbin:/bin',\n",
       "        'HOSTNAME': 'jupyter-efernandez2',\n",
       "        'JUPYTERHUB_SERVER_NAME': '',\n",
       "        'JUPYTERHUB_BASE_URL': '/',\n",
       "        'CPU_LIMIT': '2.0',\n",
       "        'CPU_GUARANTEE': '0.02',\n",
       "        'ONEPROVIDER_HOST': '',\n",
       "        'JUPYTERHUB_OAUTH_CALLBACK_URL': '/user/efernandez2/oauth_callback',\n",
       "        'JUPYTERHUB_USER': 'efernandez2',\n",
       "        'MEM_GUARANTEE': '3221225472',\n",
       "        'JUPYTER_IMAGE': 'egibinderhub/binderdemo-enolfc-2dbinder-2ddemo-2donedata-80bbfd:5f218f8f38fbfd2725366894d9519257af1cc1b9',\n",
       "        'JUPYTERHUB_ADMIN_ACCESS': '1',\n",
       "        'JPY_API_TOKEN': 'ff73d6313834488abe8ed4336ef58c74',\n",
       "        'JUPYTERHUB_CLIENT_ID': 'jupyterhub-user-efernandez2',\n",
       "        'JUPYTERHUB_SERVICE_PREFIX': '/user/efernandez2/',\n",
       "        'JUPYTER_IMAGE_SPEC': 'egibinderhub/binderdemo-enolfc-2dbinder-2ddemo-2donedata-80bbfd:5f218f8f38fbfd2725366894d9519257af1cc1b9',\n",
       "        'ONECLIENT_ACCESS_TOKEN': 'MDAxNWxvY2F00aW9uIG9uZXpvbmUKMDAzMGlkZW500aWZpZXIgMGM2NzMzOTUxN2M3Zjk4MjZjZmIwODI4ODhkNmJmMWQKMDAxYWNpZCB00aW1lIDwgMTU5NDg4NjY5OQowMDJmc2lnbmF00dXJlIJuEJ5w01NURk3VbcOzxu6GNpNCD5iL6f1q02UsKZsftcACg',\n",
       "        'JUPYTERHUB_HOST': '',\n",
       "        'JUPYTERHUB_API_URL': 'http://10.107.243.123:8081/hub/api',\n",
       "        'JUPYTERHUB_ACTIVITY_URL': 'http://10.107.243.123:8081/hub/api/users/efernandez2/activity',\n",
       "        'MEM_LIMIT': '4294967296',\n",
       "        'JUPYTERHUB_API_TOKEN': 'ff73d6313834488abe8ed4336ef58c74',\n",
       "        'HUB_SERVICE_PORT': '8081',\n",
       "        'PROXY_API_PORT_8001_TCP_PROTO': 'tcp',\n",
       "        'STATUS_WEB_PORT_80_TCP_PORT': '80',\n",
       "        'PROXY_PUBLIC_PORT_443_TCP': 'tcp://10.96.187.89:443',\n",
       "        'STATUS_WEB_PORT_80_TCP': 'tcp://10.106.210.190:80',\n",
       "        'KUBERNETES_SERVICE_PORT_HTTPS': '443',\n",
       "        'KUBERNETES_PORT_443_TCP': 'tcp://10.96.0.1:443',\n",
       "        'HUB_SERVICE_HOST': '10.107.243.123',\n",
       "        'HUB_PORT_8081_TCP_ADDR': '10.107.243.123',\n",
       "        'BINDER_PORT': 'tcp://10.100.6.255:80',\n",
       "        'BINDER_PORT_80_TCP_PROTO': 'tcp',\n",
       "        'STATUS_WEB_SERVICE_HOST': '10.106.210.190',\n",
       "        'KUBERNETES_PORT_443_TCP_ADDR': '10.96.0.1',\n",
       "        'PROXY_PUBLIC_SERVICE_PORT_HTTP': '80',\n",
       "        'PROXY_PUBLIC_SERVICE_PORT_HTTPS': '443',\n",
       "        'PROXY_PUBLIC_PORT': 'tcp://10.96.187.89:80',\n",
       "        'HUB_PORT': 'tcp://10.107.243.123:8081',\n",
       "        'HUB_PORT_8081_TCP_PORT': '8081',\n",
       "        'STATUS_WEB_PORT_80_TCP_PROTO': 'tcp',\n",
       "        'KUBERNETES_PORT_443_TCP_PROTO': 'tcp',\n",
       "        'PROXY_PUBLIC_SERVICE_HOST': '10.96.187.89',\n",
       "        'HUB_PORT_8081_TCP_PROTO': 'tcp',\n",
       "        'PROXY_API_PORT_8001_TCP_ADDR': '10.101.100.246',\n",
       "        'STATUS_WEB_SERVICE_PORT': '80',\n",
       "        'KUBERNETES_PORT_443_TCP_PORT': '443',\n",
       "        'PROXY_PUBLIC_PORT_80_TCP_ADDR': '10.96.187.89',\n",
       "        'BINDER_PORT_80_TCP_PORT': '80',\n",
       "        'KUBERNETES_SERVICE_HOST': '10.96.0.1',\n",
       "        'PROXY_PUBLIC_PORT_80_TCP': 'tcp://10.96.187.89:80',\n",
       "        'PROXY_PUBLIC_PORT_80_TCP_PROTO': 'tcp',\n",
       "        'PROXY_PUBLIC_PORT_80_TCP_PORT': '80',\n",
       "        'PROXY_PUBLIC_PORT_443_TCP_PROTO': 'tcp',\n",
       "        'PROXY_PUBLIC_PORT_443_TCP_ADDR': '10.96.187.89',\n",
       "        'PROXY_API_SERVICE_HOST': '10.101.100.246',\n",
       "        'PROXY_API_PORT': 'tcp://10.101.100.246:8001',\n",
       "        'BINDER_PORT_80_TCP': 'tcp://10.100.6.255:80',\n",
       "        'BINDER_PORT_80_TCP_ADDR': '10.100.6.255',\n",
       "        'STATUS_WEB_PORT': 'tcp://10.106.210.190:80',\n",
       "        'PROXY_PUBLIC_PORT_443_TCP_PORT': '443',\n",
       "        'PROXY_API_PORT_8001_TCP_PORT': '8001',\n",
       "        'BINDER_SERVICE_HOST': '10.100.6.255',\n",
       "        'STATUS_WEB_SERVICE_PORT_HTTP': '80',\n",
       "        'STATUS_WEB_PORT_80_TCP_ADDR': '10.106.210.190',\n",
       "        'KUBERNETES_SERVICE_PORT': '443',\n",
       "        'PROXY_PUBLIC_SERVICE_PORT': '80',\n",
       "        'HUB_PORT_8081_TCP': 'tcp://10.107.243.123:8081',\n",
       "        'PROXY_API_SERVICE_PORT': '8001',\n",
       "        'PROXY_API_PORT_8001_TCP': 'tcp://10.101.100.246:8001',\n",
       "        'BINDER_SERVICE_PORT': '80',\n",
       "        'KUBERNETES_PORT': 'tcp://10.96.0.1:443',\n",
       "        'DEBIAN_FRONTEND': 'noninteractive',\n",
       "        'LC_ALL': 'en_US.UTF-8',\n",
       "        'LANG': 'en_US.UTF-8',\n",
       "        'LANGUAGE': 'en_US.UTF-8',\n",
       "        'SHELL': '/bin/bash',\n",
       "        'USER': 'jovyan',\n",
       "        'HOME': '/home/jovyan',\n",
       "        'APP_BASE': '/srv',\n",
       "        'NPM_DIR': '/srv/npm',\n",
       "        'NPM_CONFIG_GLOBALCONFIG': '/srv/npm/npmrc',\n",
       "        'CONDA_DIR': '/srv/conda',\n",
       "        'NB_PYTHON_PREFIX': '/srv/conda',\n",
       "        'KERNEL_PYTHON_PREFIX': '/srv/conda',\n",
       "        'REPO_DIR': '/home/jovyan',\n",
       "        'JPY_PARENT_PID': '1',\n",
       "        'TERM': 'xterm-color',\n",
       "        'CLICOLOR': '1',\n",
       "        'PAGER': 'cat',\n",
       "        'GIT_PAGER': 'cat',\n",
       "        'MPLBACKEND': 'module://ipykernel.pylab.backend_inline'}"
      ]
     },
     "execution_count": 3,
     "metadata": {},
     "output_type": "execute_result"
    }
   ],
   "source": [
    "# EGI Datahub\n",
    "import os\n",
    "from fs.onedatafs import OnedataFS\n",
    "\n",
    "import xarray as xr\n",
    "import numpy as np\n",
    "import pandas as pd\n",
    "import cartopy.crs as ccrs\n",
    "import cartopy.feature as cfeature\n",
    "import matplotlib.pyplot as plt"
   ]
  },
  {
   "cell_type": "markdown",
   "metadata": {},
   "source": [
    "## Import dataset"
   ]
  },
  {
   "cell_type": "code",
   "execution_count": null,
   "metadata": {},
   "outputs": [],
   "source": [
    "%%time\n",
    "# open dataset for nearest user defined location\n",
    "\n",
    "onedata_provider_host = \"notebooks-training-oneprovider.datahub.egi.eu\"\n",
    "\n",
    "# Create connection to Oneprovider\n",
    "odfs = OnedataFS(os.environ['ONEPROVIDER_HOST'],\n",
    "                 os.environ['ONECLIENT_ACCESS_TOKEN'])\n",
    "\n",
    "ds1 = xr.open_dataset(odfs.open('/egi-notebooks/data/SDN_Clim_Arctic_Temperature.nc', 'rb'))\n",
    "ds2 = xr.open_dataset(odfs.open('/egi-notebooks/data/SDN_Clim_BalticSea_Temperature.nc', 'rb'))\n",
    "\n",
    "# display some of the metadata for ds1\n",
    "print(ds1)"
   ]
  },
  {
   "cell_type": "code",
   "execution_count": null,
   "metadata": {},
   "outputs": [],
   "source": [
    "# load the data into variables for plotting\n",
    "lon1 = ds1.lon.values\n",
    "lat1 = ds1.lat.values\n",
    "depth1 = ds1.depth.values\n",
    "time1 = ds1.time.values\n",
    "temperature1 = ds1.Temperature.values\n",
    "\n",
    "lon2 = ds2.lon.values\n",
    "lat2 = ds2.lat.values\n",
    "depth2 = ds2.depth.values\n",
    "time2 = ds2.time.values\n",
    "temperature2 = ds2.Temperature.values"
   ]
  },
  {
   "cell_type": "markdown",
   "metadata": {},
   "source": [
    "## Plot on map using cartopy"
   ]
  },
  {
   "cell_type": "code",
   "execution_count": 8,
   "metadata": {},
   "outputs": [
    {
     "ename": "NameError",
     "evalue": "name 'plt' is not defined",
     "output_type": "error",
     "traceback": [
      "\u001b[0;31m---------------------------------------------------------------------------\u001b[0m",
      "\u001b[0;31mNameError\u001b[0m                                 Traceback (most recent call last)",
      "\u001b[0;32m<ipython-input-8-d47056f6b1ea>\u001b[0m in \u001b[0;36m<module>\u001b[0;34m\u001b[0m\n\u001b[1;32m      3\u001b[0m \u001b[0;34m\u001b[0m\u001b[0m\n\u001b[1;32m      4\u001b[0m \u001b[0;31m# instantiate the figure\u001b[0m\u001b[0;34m\u001b[0m\u001b[0;34m\u001b[0m\u001b[0;34m\u001b[0m\u001b[0m\n\u001b[0;32m----> 5\u001b[0;31m \u001b[0mfig\u001b[0m \u001b[0;34m=\u001b[0m \u001b[0mplt\u001b[0m\u001b[0;34m.\u001b[0m\u001b[0mfigure\u001b[0m\u001b[0;34m(\u001b[0m\u001b[0mfigsize\u001b[0m \u001b[0;34m=\u001b[0m \u001b[0;34m(\u001b[0m\u001b[0;36m13\u001b[0m\u001b[0;34m,\u001b[0m \u001b[0;36m10\u001b[0m\u001b[0;34m)\u001b[0m\u001b[0;34m,\u001b[0m \u001b[0mdpi\u001b[0m \u001b[0;34m=\u001b[0m \u001b[0;36m80\u001b[0m\u001b[0;34m)\u001b[0m\u001b[0;34m\u001b[0m\u001b[0;34m\u001b[0m\u001b[0m\n\u001b[0m\u001b[1;32m      6\u001b[0m \u001b[0;34m\u001b[0m\u001b[0m\n\u001b[1;32m      7\u001b[0m \u001b[0;31m# set cartopy projection\u001b[0m\u001b[0;34m\u001b[0m\u001b[0;34m\u001b[0m\u001b[0;34m\u001b[0m\u001b[0m\n",
      "\u001b[0;31mNameError\u001b[0m: name 'plt' is not defined"
     ]
    }
   ],
   "source": [
    "tm = 6 # set time to plot\n",
    "dp = -1 # set depth to plot\n",
    "\n",
    "# instantiate the figure\n",
    "fig = plt.figure(figsize = (13, 10), dpi = 80) \n",
    "\n",
    "# set cartopy projection\n",
    "central_longitude = np.median(np.concatenate((lon1, lon2), axis = None)).round()\n",
    "central_latitude = np.median(np.concatenate((lat1, lat2), axis = None)).round()\n",
    "ax = plt.axes(projection=ccrs.NearsidePerspective(central_longitude = central_longitude,\n",
    "                                                  central_latitude = central_latitude))\n",
    "# define temperature colour axis bounds\n",
    "bounds = [np.nanmin(np.concatenate((temperature1, temperature2), axis = None)), \n",
    "          np.nanmax(np.concatenate((temperature1, temperature2), axis = None))]\n",
    "\n",
    "# plot\n",
    "cm = ax.pcolormesh(lon1, lat1, temperature1[tm,dp,:,:], \n",
    "              shading = 'gourand', \n",
    "              cmap = plt.cm.Spectral_r, \n",
    "              vmin = bounds[0], vmax = bounds[1],\n",
    "              transform = ccrs.PlateCarree())\n",
    "\n",
    "cm = ax.pcolormesh(lon2, lat2, temperature2[tm,dp,:,:], \n",
    "              shading = 'gourand', \n",
    "              cmap = plt.cm.Spectral_r,\n",
    "              vmin = bounds[0], vmax = bounds[1],\n",
    "              transform = ccrs.PlateCarree())\n",
    "\n",
    "\n",
    "plt.colorbar(cm, orientation = 'vertical').set_label('[$^\\circ$C]')\n",
    "\n",
    "# add a coastline\n",
    "coastline = cfeature.GSHHSFeature(scale = 'intermediate', edgecolor = 'none', facecolor = 'grey')\n",
    "ax.add_feature(coastline)\n",
    "\n",
    "# add a title\n",
    "plt.title(\"SeaDataNet Temperature for \"\n",
    "          +str((pd.to_datetime(time1[tm])).strftime('%B'))\n",
    "          +\", depth = \"+str(depth1[dp])+\"m\")\n",
    "\n",
    "plt.show()"
   ]
  },
  {
   "cell_type": "code",
   "execution_count": null,
   "metadata": {},
   "outputs": [],
   "source": []
  }
 ],
 "metadata": {
  "kernelspec": {
   "display_name": "Python 3",
   "language": "python",
   "name": "python3"
  },
  "language_info": {
   "codemirror_mode": {
    "name": "ipython",
    "version": 3
   },
   "file_extension": ".py",
   "mimetype": "text/x-python",
   "name": "python",
   "nbconvert_exporter": "python",
   "pygments_lexer": "ipython3",
   "version": "3.7.3"
  }
 },
 "nbformat": 4,
 "nbformat_minor": 2
}
